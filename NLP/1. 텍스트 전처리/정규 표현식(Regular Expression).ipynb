{
 "cells": [
  {
   "cell_type": "markdown",
   "id": "5762f6ee",
   "metadata": {},
   "source": [
    "## 정규 표현식 문법과 모듈 함수"
   ]
  },
  {
   "cell_type": "markdown",
   "id": "8657eed9",
   "metadata": {},
   "source": [
    "**1) 정규 표현식 문법**"
   ]
  },
  {
   "cell_type": "markdown",
   "id": "0a16d7a0",
   "metadata": {},
   "source": [
    "|특수문자|설명|\n",
    "|:---|:---|\n",
    "|.|한 개의 임의의 문자를 나타냄. (줄바꿈 문자인 \\n는 제외)|\n",
    "|?|앞의 문자가 존재할 수도 있고, 존재하지 않을 수도 있다. (문자가 0개 또는 1개)|\n",
    "|* |앞의 문자가 무한개로 존재할 수도 있고, 존재하지 않을 수도 있다. (문자가 0개 이상)|\n",
    "|+|앞의 문자가 최소 한 개 이상 존재. (문자가 1개 이상)|\n",
    "|^|뒤의 문자열로 문자열이 시작.|\n",
    "|$|앞의 문자열로 문자열이 끝남.|\n",
    "|{숫자}|숫자만큼 반복|\n",
    "|{숫자1,숫자2}|숫자1 이상 숫자2 이하만큼 반복. ?,*,+를 이것으로 대체할 수 있음|\n",
    "|{숫자,}|숫자 이상 만큼 반복|\n",
    "|[]|대괄호 안의 문자들 중 한 개의 문자와 매치합니다. [amk]라고 한다면 a 또는 m 또는 k 중 하나라도 존재하면 매치를 의미. [a-z]와 같이 범위를 지정할 수도 있습니다. [a-zA-Z]는 알파벳 전체를 의미하는 범위이며, 문자열에 알파벳이 존재하면 매치를 의미.|\n",
    "|[^문자]|해당 문자를 제외한 문자를 매치|\n"
   ]
  },
  {
   "cell_type": "markdown",
   "id": "f0eced34",
   "metadata": {},
   "source": [
    "|모듈함수|설명|\n",
    "|:---|:---|\n",
    "|re.compile()|정규표현식을 컴파일하는 함수입니다. 다시 말해, 파이썬에게 전해주는 역할을 합니다. 찾고자 하는 패턴이 빈번한 경우에는 미리 컴파일해놓고 사용하면 속도와 편의성면에서 유리합니다.|\n",
    "|re.search()|\t문자열 전체에 대해서 정규표현식과 매치되는지를 검색합니다.\n",
    "|re.match()|\t문자열의 처음이 정규표현식과 매치되는지를 검색합니다.\n",
    "|re.split()|\t정규 표현식을 기준으로 문자열을 분리하여 리스트로 리턴합니다.\n",
    "|re.findall()|\t문자열에서 정규 표현식과 매치되는 모든 경우의 문자열을 찾아서 리스트로 리턴합니다. 만약, 매치되는 문자열이 없다면 빈 리스트가 리턴됩니다.\n",
    "|re.finditer()|\t문자열에서 정규 표현식과 매치되는 모든 경우의 문자열에 대한 이터레이터 객체를 리턴합니다.\n",
    "|re.sub()|문자열에서 정규 표현식과 일치하는 부분에 대해서 다른 문자열로 대체합니다."
   ]
  },
  {
   "cell_type": "markdown",
   "id": "c5d2809e",
   "metadata": {},
   "source": [
    "|문자규칙|설명|\n",
    "|:---|:---|\n",
    "|\\d|모든 숫자를 의미. [0-9]와 동일.|\n",
    "|\\D|숫자를 제외한 모든 문자를 의미.[^0-9]와 의미가 동일|\n",
    "|\\s|공백을 의미.[\\t\\n\\r\\f\\v]와 의미가 동일|\n",
    "|\\S|공백을 제외한 문자를 의미.[^\\t\\n\\r\\f\\v]와 의미가 동일|\n",
    "|\\w|문자 또는 숫자를 의미.[a-zA-Z0-9]와 의미가 동일|\n",
    "|\\W|문자 또는 숫자가 아닌 문자를 의미.[^a-zA-Z0-9]와 의미가 동일|"
   ]
  },
  {
   "cell_type": "markdown",
   "id": "34ab1987",
   "metadata": {},
   "source": [
    "## 실습"
   ]
  },
  {
   "cell_type": "code",
   "execution_count": 2,
   "id": "e6ba0451",
   "metadata": {},
   "outputs": [],
   "source": [
    "import re"
   ]
  },
  {
   "cell_type": "markdown",
   "id": "d5498b4c",
   "metadata": {},
   "source": [
    "## ."
   ]
  },
  {
   "cell_type": "code",
   "execution_count": 5,
   "id": "2e1016ce",
   "metadata": {},
   "outputs": [],
   "source": [
    "r = re.compile(\"a.c\")\n",
    "r.search(\"kkk\")"
   ]
  },
  {
   "cell_type": "code",
   "execution_count": 6,
   "id": "6f21ef64",
   "metadata": {},
   "outputs": [
    {
     "data": {
      "text/plain": [
       "<re.Match object; span=(0, 3), match='abc'>"
      ]
     },
     "execution_count": 6,
     "metadata": {},
     "output_type": "execute_result"
    }
   ],
   "source": [
    "r.search(\"abc\")"
   ]
  },
  {
   "cell_type": "markdown",
   "id": "fb7a98dd",
   "metadata": {},
   "source": [
    "## ?"
   ]
  },
  {
   "cell_type": "code",
   "execution_count": 3,
   "id": "6256b116",
   "metadata": {},
   "outputs": [],
   "source": [
    "r = re.compile(\"ab?c\")\n",
    "r.search('abbc')"
   ]
  },
  {
   "cell_type": "code",
   "execution_count": 4,
   "id": "752244f6",
   "metadata": {},
   "outputs": [
    {
     "data": {
      "text/plain": [
       "<re.Match object; span=(0, 3), match='abc'>"
      ]
     },
     "execution_count": 4,
     "metadata": {},
     "output_type": "execute_result"
    }
   ],
   "source": [
    "r.search('abc')"
   ]
  },
  {
   "cell_type": "code",
   "execution_count": 5,
   "id": "47193d96",
   "metadata": {},
   "outputs": [
    {
     "data": {
      "text/plain": [
       "<re.Match object; span=(0, 2), match='ac'>"
      ]
     },
     "execution_count": 5,
     "metadata": {},
     "output_type": "execute_result"
    }
   ],
   "source": [
    "r.search('ac')"
   ]
  },
  {
   "cell_type": "markdown",
   "id": "077460fd",
   "metadata": {},
   "source": [
    "## *"
   ]
  },
  {
   "cell_type": "code",
   "execution_count": 6,
   "id": "93640639",
   "metadata": {},
   "outputs": [],
   "source": [
    "r = re.compile(\"ab*c\")\n",
    "r.search(\"a\")"
   ]
  },
  {
   "cell_type": "code",
   "execution_count": 7,
   "id": "d5a2e4aa",
   "metadata": {},
   "outputs": [
    {
     "data": {
      "text/plain": [
       "<re.Match object; span=(0, 2), match='ac'>"
      ]
     },
     "execution_count": 7,
     "metadata": {},
     "output_type": "execute_result"
    }
   ],
   "source": [
    "r.search(\"ac\")"
   ]
  },
  {
   "cell_type": "code",
   "execution_count": 8,
   "id": "964f16d2",
   "metadata": {},
   "outputs": [
    {
     "data": {
      "text/plain": [
       "<re.Match object; span=(0, 3), match='abc'>"
      ]
     },
     "execution_count": 8,
     "metadata": {},
     "output_type": "execute_result"
    }
   ],
   "source": [
    "r.search(\"abc\")"
   ]
  },
  {
   "cell_type": "code",
   "execution_count": 9,
   "id": "0fc4bbe5",
   "metadata": {},
   "outputs": [
    {
     "data": {
      "text/plain": [
       "<re.Match object; span=(0, 6), match='abbbbc'>"
      ]
     },
     "execution_count": 9,
     "metadata": {},
     "output_type": "execute_result"
    }
   ],
   "source": [
    "r.search(\"abbbbc\")"
   ]
  },
  {
   "cell_type": "markdown",
   "id": "88c5552a",
   "metadata": {},
   "source": [
    "## +"
   ]
  },
  {
   "cell_type": "code",
   "execution_count": 10,
   "id": "e32939ad",
   "metadata": {},
   "outputs": [],
   "source": [
    "r = re.compile(\"ab+c\")\n",
    "r.search(\"ac\")"
   ]
  },
  {
   "cell_type": "code",
   "execution_count": 11,
   "id": "3a1ae2e9",
   "metadata": {},
   "outputs": [
    {
     "data": {
      "text/plain": [
       "<re.Match object; span=(0, 3), match='abc'>"
      ]
     },
     "execution_count": 11,
     "metadata": {},
     "output_type": "execute_result"
    }
   ],
   "source": [
    "r.search(\"abc\")"
   ]
  },
  {
   "cell_type": "code",
   "execution_count": 12,
   "id": "9fbeefc4",
   "metadata": {},
   "outputs": [
    {
     "data": {
      "text/plain": [
       "<re.Match object; span=(0, 6), match='abbbbc'>"
      ]
     },
     "execution_count": 12,
     "metadata": {},
     "output_type": "execute_result"
    }
   ],
   "source": [
    "r.search(\"abbbbc\")"
   ]
  },
  {
   "cell_type": "markdown",
   "id": "889430ef",
   "metadata": {},
   "source": [
    "## ^"
   ]
  },
  {
   "cell_type": "code",
   "execution_count": 13,
   "id": "40ae889b",
   "metadata": {},
   "outputs": [],
   "source": [
    "r = re.compile(\"^ab\")\n",
    "r.search(\"bbc\")\n",
    "r.search(\"zab\")"
   ]
  },
  {
   "cell_type": "code",
   "execution_count": 14,
   "id": "bf0534be",
   "metadata": {},
   "outputs": [
    {
     "data": {
      "text/plain": [
       "<re.Match object; span=(0, 2), match='ab'>"
      ]
     },
     "execution_count": 14,
     "metadata": {},
     "output_type": "execute_result"
    }
   ],
   "source": [
    "r.search(\"abz\")"
   ]
  },
  {
   "cell_type": "markdown",
   "id": "b61a3931",
   "metadata": {},
   "source": [
    "## {숫자} 기호"
   ]
  },
  {
   "cell_type": "code",
   "execution_count": 15,
   "id": "ced84dab",
   "metadata": {},
   "outputs": [],
   "source": [
    "r = re.compile(\"ab{2}c\")\n",
    "\n",
    "r.search(\"ac\")\n",
    "r.search(\"abc\")\n",
    "r.search(\"abbbbbc\")"
   ]
  },
  {
   "cell_type": "code",
   "execution_count": 16,
   "id": "24d3959a",
   "metadata": {},
   "outputs": [
    {
     "data": {
      "text/plain": [
       "<re.Match object; span=(0, 4), match='abbc'>"
      ]
     },
     "execution_count": 16,
     "metadata": {},
     "output_type": "execute_result"
    }
   ],
   "source": [
    "r.search(\"abbc\")"
   ]
  },
  {
   "cell_type": "code",
   "execution_count": 17,
   "id": "b6c23a36",
   "metadata": {},
   "outputs": [],
   "source": [
    "r.search(\"abbbbbbbbc\")"
   ]
  },
  {
   "cell_type": "markdown",
   "id": "75dd2475",
   "metadata": {},
   "source": [
    "## {숫자,} 기호"
   ]
  },
  {
   "cell_type": "code",
   "execution_count": 18,
   "id": "c147992b",
   "metadata": {},
   "outputs": [],
   "source": [
    "r = re.compile(\"a{2,}bc\")\n",
    "\n",
    "# 아무런 결과도 출력되지 않는다.\n",
    "r.search(\"bc\")\n",
    "r.search(\"aa\")"
   ]
  },
  {
   "cell_type": "code",
   "execution_count": 19,
   "id": "584659f7",
   "metadata": {},
   "outputs": [
    {
     "data": {
      "text/plain": [
       "<re.Match object; span=(0, 4), match='aabc'>"
      ]
     },
     "execution_count": 19,
     "metadata": {},
     "output_type": "execute_result"
    }
   ],
   "source": [
    "r.search(\"aabc\")"
   ]
  },
  {
   "cell_type": "code",
   "execution_count": 20,
   "id": "235e0197",
   "metadata": {},
   "outputs": [
    {
     "data": {
      "text/plain": [
       "<re.Match object; span=(0, 10), match='aaaaaaaabc'>"
      ]
     },
     "execution_count": 20,
     "metadata": {},
     "output_type": "execute_result"
    }
   ],
   "source": [
    "r.search(\"aaaaaaaabc\")"
   ]
  },
  {
   "cell_type": "markdown",
   "id": "fde3433d",
   "metadata": {},
   "source": [
    "## [ ] 기호"
   ]
  },
  {
   "cell_type": "code",
   "execution_count": 21,
   "id": "f9ed6825",
   "metadata": {},
   "outputs": [],
   "source": [
    "r = re.compile(\"[abc]\") # [abc]는 [a-c]와 같다.\n",
    "r.search(\"zzz\") # 아무런 결과도 출력되지 않는다."
   ]
  },
  {
   "cell_type": "code",
   "execution_count": 22,
   "id": "7cc5a76e",
   "metadata": {},
   "outputs": [
    {
     "data": {
      "text/plain": [
       "<re.Match object; span=(0, 1), match='a'>"
      ]
     },
     "execution_count": 22,
     "metadata": {},
     "output_type": "execute_result"
    }
   ],
   "source": [
    "r.search(\"a\")"
   ]
  },
  {
   "cell_type": "code",
   "execution_count": 23,
   "id": "66fb892e",
   "metadata": {},
   "outputs": [
    {
     "data": {
      "text/plain": [
       "<re.Match object; span=(0, 1), match='a'>"
      ]
     },
     "execution_count": 23,
     "metadata": {},
     "output_type": "execute_result"
    }
   ],
   "source": [
    "r.search(\"aaaaaaa\")"
   ]
  },
  {
   "cell_type": "code",
   "execution_count": 24,
   "id": "882b675b",
   "metadata": {},
   "outputs": [
    {
     "data": {
      "text/plain": [
       "<re.Match object; span=(0, 1), match='b'>"
      ]
     },
     "execution_count": 24,
     "metadata": {},
     "output_type": "execute_result"
    }
   ],
   "source": [
    "r.search(\"baac\")"
   ]
  },
  {
   "cell_type": "code",
   "execution_count": 25,
   "id": "37937322",
   "metadata": {},
   "outputs": [],
   "source": [
    "r = re.compile(\"[a-z]\")\n",
    "\n",
    "r.search(\"AAA\")\n",
    "r.search(\"111\")"
   ]
  },
  {
   "cell_type": "code",
   "execution_count": 26,
   "id": "41400d2b",
   "metadata": {},
   "outputs": [
    {
     "data": {
      "text/plain": [
       "<re.Match object; span=(0, 1), match='a'>"
      ]
     },
     "execution_count": 26,
     "metadata": {},
     "output_type": "execute_result"
    }
   ],
   "source": [
    "r.search(\"aBC\")"
   ]
  },
  {
   "cell_type": "markdown",
   "id": "b9d82d42",
   "metadata": {},
   "source": [
    "## [^문자] 기호"
   ]
  },
  {
   "cell_type": "code",
   "execution_count": 27,
   "id": "d9f02238",
   "metadata": {},
   "outputs": [],
   "source": [
    "r = re.compile(\"[^abc]\")\n",
    "\n",
    "r.search(\"a\")\n",
    "r.search(\"ab\")\n",
    "r.search(\"b\")"
   ]
  },
  {
   "cell_type": "code",
   "execution_count": 28,
   "id": "f617d82e",
   "metadata": {},
   "outputs": [
    {
     "data": {
      "text/plain": [
       "<re.Match object; span=(0, 1), match='d'>"
      ]
     },
     "execution_count": 28,
     "metadata": {},
     "output_type": "execute_result"
    }
   ],
   "source": [
    "r.search(\"d\")"
   ]
  },
  {
   "cell_type": "code",
   "execution_count": 29,
   "id": "151d0b6c",
   "metadata": {},
   "outputs": [
    {
     "data": {
      "text/plain": [
       "<re.Match object; span=(0, 1), match='1'>"
      ]
     },
     "execution_count": 29,
     "metadata": {},
     "output_type": "execute_result"
    }
   ],
   "source": [
    "r.search(\"1\")"
   ]
  },
  {
   "cell_type": "markdown",
   "id": "61d048d0",
   "metadata": {},
   "source": [
    "##  정규 표현식 모듈 함수 실습"
   ]
  },
  {
   "cell_type": "markdown",
   "id": "e2c91360",
   "metadata": {},
   "source": [
    "### (1) re.match() 와 re.search()의 차이\n",
    "search()가 정규 표현식 전체에 대해서 문자열이 매치하는지를 본다면, match()는 문자열의 첫 부분부터 정규 표현식과 매치하는지를 확인합니다. 문자열 중간에 찾을 패턴이 있더라도 match 함수는 문자열의 시작에서 패턴이 일치하지 않으면 찾지 않습니다."
   ]
  },
  {
   "cell_type": "code",
   "execution_count": 30,
   "id": "d35cec41",
   "metadata": {},
   "outputs": [],
   "source": [
    "r = re.compile(\"ab.\")\n",
    "r.match(\"kkkabc\") # 아무런 결과도 출력되지 않는다."
   ]
  },
  {
   "cell_type": "code",
   "execution_count": 31,
   "id": "b6abd2c4",
   "metadata": {},
   "outputs": [
    {
     "data": {
      "text/plain": [
       "<re.Match object; span=(3, 6), match='abc'>"
      ]
     },
     "execution_count": 31,
     "metadata": {},
     "output_type": "execute_result"
    }
   ],
   "source": [
    "r.search(\"kkkabc\")  "
   ]
  },
  {
   "cell_type": "code",
   "execution_count": 32,
   "id": "3fdec629",
   "metadata": {},
   "outputs": [
    {
     "data": {
      "text/plain": [
       "<re.Match object; span=(0, 3), match='abc'>"
      ]
     },
     "execution_count": 32,
     "metadata": {},
     "output_type": "execute_result"
    }
   ],
   "source": [
    "r.match(\"abckkk\")  "
   ]
  },
  {
   "cell_type": "markdown",
   "id": "ab9ec7b0",
   "metadata": {},
   "source": [
    "### (2) re.split()\n",
    "split() 함수는 입력된 정규 표현식을 기준으로 문자열들을 분리하여 리스트로 리턴합니다."
   ]
  },
  {
   "cell_type": "code",
   "execution_count": 34,
   "id": "8481bec5",
   "metadata": {},
   "outputs": [
    {
     "data": {
      "text/plain": [
       "['사과', '딸기', '수박', '메론', '바나나']"
      ]
     },
     "execution_count": 34,
     "metadata": {},
     "output_type": "execute_result"
    }
   ],
   "source": [
    "text = \"사과 딸기 수박 메론 바나나\"\n",
    "re.split(\" \", text)"
   ]
  },
  {
   "cell_type": "code",
   "execution_count": 35,
   "id": "e1b9a4b2",
   "metadata": {},
   "outputs": [
    {
     "data": {
      "text/plain": [
       "['사과', '딸기', '수박', '메론', '바나나']"
      ]
     },
     "execution_count": 35,
     "metadata": {},
     "output_type": "execute_result"
    }
   ],
   "source": [
    "# 줄바꿈 기준 분리\n",
    "text = \"\"\"사과\n",
    "딸기\n",
    "수박\n",
    "메론\n",
    "바나나\"\"\"\n",
    "\n",
    "re.split(\"\\n\", text)"
   ]
  },
  {
   "cell_type": "code",
   "execution_count": 36,
   "id": "9777b95c",
   "metadata": {},
   "outputs": [
    {
     "data": {
      "text/plain": [
       "['사과', '딸기', '수박', '메론', '바나나']"
      ]
     },
     "execution_count": 36,
     "metadata": {},
     "output_type": "execute_result"
    }
   ],
   "source": [
    "text = \"사과+딸기+수박+메론+바나나\"\n",
    "\n",
    "re.split(\"\\+\", text)"
   ]
  },
  {
   "cell_type": "markdown",
   "id": "52937d80",
   "metadata": {},
   "source": [
    "### (3) re.findall()\n",
    "findall() 함수는 정규 표현식과 매치되는 모든 문자열들을 리스트로 리턴합니다. 단, 매치되는 문자열이 없다면 빈 리스트를 리턴합니다. 임의의 텍스트에 정규 표현식으로 숫자를 의미하는 규칙으로 findall()을 수행하면 전체 텍스트로부터 숫자만 찾아내서 리스트로 리턴합니다."
   ]
  },
  {
   "cell_type": "code",
   "execution_count": 3,
   "id": "81bb1f73",
   "metadata": {},
   "outputs": [
    {
     "data": {
      "text/plain": [
       "['010', '1234', '1234', '30']"
      ]
     },
     "execution_count": 3,
     "metadata": {},
     "output_type": "execute_result"
    }
   ],
   "source": [
    "text = \"\"\"이름 : 김철수\n",
    "전화번호 : 010 - 1234 - 1234\n",
    "나이 : 30\n",
    "성별 : 남\"\"\"\n",
    "\n",
    "re.findall(\"\\d+\", text)"
   ]
  },
  {
   "cell_type": "code",
   "execution_count": 4,
   "id": "1d3cbdf9",
   "metadata": {},
   "outputs": [
    {
     "data": {
      "text/plain": [
       "[]"
      ]
     },
     "execution_count": 4,
     "metadata": {},
     "output_type": "execute_result"
    }
   ],
   "source": [
    "re.findall(\"\\d+\", \"문자열입니다.\")"
   ]
  },
  {
   "cell_type": "markdown",
   "id": "78573ad4",
   "metadata": {},
   "source": [
    "### (4) re.sub()\n",
    "sub() 함수는 정규 표현식 패턴과 일치하는 문자열을 찾아 다른 문자열로 대체할 수 있습니다.영어 문장에 각주 등과 같은 이유로 특수 문자가 섞여있는 경우에 특수 문자를 제거하고 싶다면 알파벳 외의 문자는 공백으로 처리하는 등의 용도로 쓸 수 있습니다."
   ]
  },
  {
   "cell_type": "code",
   "execution_count": 5,
   "id": "eae75846",
   "metadata": {},
   "outputs": [
    {
     "name": "stdout",
     "output_type": "stream",
     "text": [
      "Regular expression   A regular expression  regex or regexp     sometimes called a rational expression        is  in theoretical computer science and formal language theory  a sequence of characters that define a search pattern \n"
     ]
    }
   ],
   "source": [
    "text = \"Regular expression : A regular expression, regex or regexp[1] (sometimes called a rational expression)[2][3] is, in theoretical computer science and formal language theory, a sequence of characters that define a search pattern.\"\n",
    "\n",
    "preprocessed_text = re.sub('[^a-zA-Z]', ' ', text)\n",
    "print(preprocessed_text)"
   ]
  },
  {
   "cell_type": "markdown",
   "id": "332dea7f",
   "metadata": {},
   "source": [
    "## 텍스트 처리 예제"
   ]
  },
  {
   "cell_type": "code",
   "execution_count": 6,
   "id": "6095d111",
   "metadata": {},
   "outputs": [],
   "source": [
    "text = \"\"\"100 John    PROF\n",
    "101 James   STUD\n",
    "102 Mac   STUD\"\"\""
   ]
  },
  {
   "cell_type": "code",
   "execution_count": 7,
   "id": "0ef9acb0",
   "metadata": {},
   "outputs": [
    {
     "data": {
      "text/plain": [
       "['100', 'John', 'PROF', '101', 'James', 'STUD', '102', 'Mac', 'STUD']"
      ]
     },
     "execution_count": 7,
     "metadata": {},
     "output_type": "execute_result"
    }
   ],
   "source": [
    "re.split('\\s+', text)  "
   ]
  },
  {
   "cell_type": "code",
   "execution_count": 8,
   "id": "ea55e2ce",
   "metadata": {},
   "outputs": [
    {
     "data": {
      "text/plain": [
       "['100', '101', '102']"
      ]
     },
     "execution_count": 8,
     "metadata": {},
     "output_type": "execute_result"
    }
   ],
   "source": [
    "re.findall('\\d+',text)  "
   ]
  },
  {
   "cell_type": "code",
   "execution_count": 9,
   "id": "5ef974bf",
   "metadata": {},
   "outputs": [
    {
     "data": {
      "text/plain": [
       "['J', 'P', 'R', 'O', 'F', 'J', 'S', 'T', 'U', 'D', 'M', 'S', 'T', 'U', 'D']"
      ]
     },
     "execution_count": 9,
     "metadata": {},
     "output_type": "execute_result"
    }
   ],
   "source": [
    "re.findall('[A-Z]',text)"
   ]
  },
  {
   "cell_type": "code",
   "execution_count": 10,
   "id": "5db20150",
   "metadata": {},
   "outputs": [
    {
     "data": {
      "text/plain": [
       "['PROF', 'STUD', 'STUD']"
      ]
     },
     "execution_count": 10,
     "metadata": {},
     "output_type": "execute_result"
    }
   ],
   "source": [
    "re.findall('[A-Z]{4}',text)  "
   ]
  },
  {
   "cell_type": "code",
   "execution_count": 11,
   "id": "3dae3816",
   "metadata": {},
   "outputs": [
    {
     "data": {
      "text/plain": [
       "['John', 'James', 'Mac']"
      ]
     },
     "execution_count": 11,
     "metadata": {},
     "output_type": "execute_result"
    }
   ],
   "source": [
    "re.findall('[A-Z][a-z]+',text)"
   ]
  },
  {
   "cell_type": "markdown",
   "id": "b22ecbe5",
   "metadata": {},
   "source": [
    "## 정규표현식을 이용한 토큰화"
   ]
  },
  {
   "cell_type": "code",
   "execution_count": 12,
   "id": "2e1982a8",
   "metadata": {},
   "outputs": [
    {
     "name": "stdout",
     "output_type": "stream",
     "text": [
      "['Don', 't', 'be', 'fooled', 'by', 'the', 'dark', 'sounding', 'name', 'Mr', 'Jone', 's', 'Orphanage', 'is', 'as', 'cheery', 'as', 'cheery', 'goes', 'for', 'a', 'pastry', 'shop']\n",
      "[\"Don't\", 'be', 'fooled', 'by', 'the', 'dark', 'sounding', 'name,', 'Mr.', \"Jone's\", 'Orphanage', 'is', 'as', 'cheery', 'as', 'cheery', 'goes', 'for', 'a', 'pastry', 'shop']\n"
     ]
    }
   ],
   "source": [
    "from nltk.tokenize import RegexpTokenizer\n",
    "\n",
    "text = \"Don't be fooled by the dark sounding name, Mr. Jone's Orphanage is as cheery as cheery goes for a pastry shop\"\n",
    "\n",
    "tokenizer1 = RegexpTokenizer(\"[\\w]+\")\n",
    "tokenizer2 = RegexpTokenizer(\"\\s+\", gaps=True)\n",
    "\n",
    "print(tokenizer1.tokenize(text))\n",
    "print(tokenizer2.tokenize(text))"
   ]
  },
  {
   "cell_type": "markdown",
   "id": "18a0c955",
   "metadata": {},
   "source": [
    "=> NLTK에서는 정규 표현식을 사용해서 단어 토큰화를 수행하는 RegexpTokenizer를 지원합니다. RegexpTokenizer()에서 괄호 안에 하나의 토큰으로 규정하기를 원하는 정규 표현식을 넣어서 토큰화를 수행합니다. tokenizer1에 사용한 \\w+는 문자 또는 숫자가 1개 이상인 경우를 의미합니다.\n",
    "\n",
    "tokenizer2에서는 공백을 기준으로 토큰화하도록 했습니다. gaps=true는 해당 정규 표현식을 토큰으로 나누기 위한 기준으로 사용한다는 의미입니다. 만약 gaps=True라는 부분을 기재하지 않는다면, 토큰화의 결과는 공백들만 나오게 됩니다. tokenizer2의 결과는 위의 tokenizer1의 결과와는 달리 아포스트로피나 온점을 제외하지 않고 토큰화가 수행된 것을 확인할 수 있습니다."
   ]
  },
  {
   "cell_type": "code",
   "execution_count": null,
   "id": "6e937620",
   "metadata": {},
   "outputs": [],
   "source": []
  }
 ],
 "metadata": {
  "kernelspec": {
   "display_name": "naver_crawler",
   "language": "python",
   "name": "naver_crawler"
  },
  "language_info": {
   "codemirror_mode": {
    "name": "ipython",
    "version": 3
   },
   "file_extension": ".py",
   "mimetype": "text/x-python",
   "name": "python",
   "nbconvert_exporter": "python",
   "pygments_lexer": "ipython3",
   "version": "3.8.7"
  }
 },
 "nbformat": 4,
 "nbformat_minor": 5
}

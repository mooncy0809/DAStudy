{
 "cells": [
  {
   "cell_type": "markdown",
   "id": "5762f6ee",
   "metadata": {},
   "source": [
    "## 정규 표현식 문법과 모듈 함수"
   ]
  },
  {
   "cell_type": "markdown",
   "id": "8657eed9",
   "metadata": {},
   "source": [
    "**1) 정규 표현식 문법**"
   ]
  },
  {
   "cell_type": "markdown",
   "id": "0a16d7a0",
   "metadata": {},
   "source": [
    "|특수문자|설명|\n",
    "|:---|:---|\n",
    "|.|한 개의 임의의 문자를 나타냄. (줄바꿈 문자인 \\n는 제외)|\n",
    "|?|앞의 문자가 존재할 수도 있고, 존재하지 않을 수도 있다. (문자가 0개 또는 1개)|\n",
    "|* |앞의 문자가 무한개로 존재할 수도 있고, 존재하지 않을 수도 있다. (문자가 0개 이상)|\n",
    "|+|앞의 문자가 최소 한 개 이상 존재. (문자가 1개 이상)|\n",
    "|^|뒤의 문자열로 문자열이 시작.|\n",
    "|$|앞의 문자열로 문자열이 끝남.|\n",
    "|{숫자}|숫자만큼 반복|\n",
    "|{숫자1,숫자2}|숫자1 이상 숫자2 이하만큼 반복. ?,*,+를 이것으로 대체할 수 있음|\n",
    "|{숫자,}|숫자 이상 만큼 반복|\n",
    "|[]|대괄호 안의 문자들 중 한 개의 문자와 매치합니다. [amk]라고 한다면 a 또는 m 또는 k 중 하나라도 존재하면 매치를 의미. [a-z]와 같이 범위를 지정할 수도 있습니다. [a-zA-Z]는 알파벳 전체를 의미하는 범위이며, 문자열에 알파벳이 존재하면 매치를 의미.|\n",
    "|[^문자]|해당 문자를 제외한 문자를 매치|\n"
   ]
  },
  {
   "cell_type": "markdown",
   "id": "f0eced34",
   "metadata": {},
   "source": [
    "|모듈함수|설명|\n",
    "|:---|:---|\n",
    "|re.compile()|정규표현식을 컴파일하는 함수입니다. 다시 말해, 파이썬에게 전해주는 역할을 합니다. 찾고자 하는 패턴이 빈번한 경우에는 미리 컴파일해놓고 사용하면 속도와 편의성면에서 유리합니다.|\n",
    "|re.search()|\t문자열 전체에 대해서 정규표현식과 매치되는지를 검색합니다.\n",
    "|re.match()|\t문자열의 처음이 정규표현식과 매치되는지를 검색합니다.\n",
    "|re.split()|\t정규 표현식을 기준으로 문자열을 분리하여 리스트로 리턴합니다.\n",
    "|re.findall()|\t문자열에서 정규 표현식과 매치되는 모든 경우의 문자열을 찾아서 리스트로 리턴합니다. 만약, 매치되는 문자열이 없다면 빈 리스트가 리턴됩니다.\n",
    "|re.finditer()|\t문자열에서 정규 표현식과 매치되는 모든 경우의 문자열에 대한 이터레이터 객체를 리턴합니다.\n",
    "|re.sub()|문자열에서 정규 표현식과 일치하는 부분에 대해서 다른 문자열로 대체합니다."
   ]
  },
  {
   "cell_type": "markdown",
   "id": "c5d2809e",
   "metadata": {},
   "source": [
    "|문자규칙|설명|\n",
    "|:---|:---|\n",
    "|\\d|모든 숫자를 의미. [0-9]와 동일.|\n",
    "|\\D|숫자를 제외한 모든 문자를 의미.[^0-9]와 의미가 동일|\n",
    "|\\s|공백을 의미.[\\t\\n\\r\\f\\v]와 의미가 동일|\n",
    "|\\S|공백을 제외한 문자를 의미.[^\\t\\n\\r\\f\\v]와 의미가 동일|\n",
    "|\\w|문자 또는 숫자를 의미.[a-zA-Z0-9]와 의미가 동일|\n",
    "|\\W|문자 또는 숫자가 아닌 문자를 의미.[^a-zA-Z0-9]와 의미가 동일|"
   ]
  },
  {
   "cell_type": "markdown",
   "id": "34ab1987",
   "metadata": {},
   "source": [
    "## 실습"
   ]
  },
  {
   "cell_type": "code",
   "execution_count": 3,
   "id": "e6ba0451",
   "metadata": {},
   "outputs": [],
   "source": [
    "import re"
   ]
  },
  {
   "cell_type": "code",
   "execution_count": 5,
   "id": "2e1016ce",
   "metadata": {},
   "outputs": [],
   "source": [
    "r = re.compile(\"a.c\")\n",
    "r.search(\"kkk\")"
   ]
  },
  {
   "cell_type": "code",
   "execution_count": 6,
   "id": "6f21ef64",
   "metadata": {},
   "outputs": [
    {
     "data": {
      "text/plain": [
       "<re.Match object; span=(0, 3), match='abc'>"
      ]
     },
     "execution_count": 6,
     "metadata": {},
     "output_type": "execute_result"
    }
   ],
   "source": [
    "r.search(\"abc\")"
   ]
  },
  {
   "cell_type": "code",
   "execution_count": null,
   "id": "81f8ecd3",
   "metadata": {},
   "outputs": [],
   "source": []
  }
 ],
 "metadata": {
  "kernelspec": {
   "display_name": "naver_crawler",
   "language": "python",
   "name": "naver_crawler"
  },
  "language_info": {
   "codemirror_mode": {
    "name": "ipython",
    "version": 3
   },
   "file_extension": ".py",
   "mimetype": "text/x-python",
   "name": "python",
   "nbconvert_exporter": "python",
   "pygments_lexer": "ipython3",
   "version": "3.8.7"
  }
 },
 "nbformat": 4,
 "nbformat_minor": 5
}
